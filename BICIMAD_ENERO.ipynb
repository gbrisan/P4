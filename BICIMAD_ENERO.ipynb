{
 "cells": [
  {
   "cell_type": "markdown",
   "id": "f72b821c",
   "metadata": {},
   "source": [
    "# EVOLUCIÓN BICIMAD (2019-2023)\n",
    "## Un trabajo de: Gabriela Brito Santana y Francisco Suraña Muñoz\n",
    "##### Este trabajo de análisis de grandes cantidades de datos mediante Spark se centra en el estudio de la evolución del uso del servicio de bicicleta pública eléctrica de Madrid (Bicimad) entre 2019 y 2023. Para ello se van a analizar los datos del mes de enero de cada uno de los años que son objeto del estudio. Las cifras consultadas son las recogidas por la EMT, a las que se accede a través de su portal de datos abiertos.\n",
    "##### En esta práctica se hace una comparativa  a lo largo de los años en el número de desplazamientos durante dicho mes, así como, las estaciones de servicio con mayor y menor uso.\n",
    "##### Por otra parte, cabe destacar que a partir del año 2022 se produce un cambio en la forma de recoger y exponer los datos, por este motivo, se va a hacer un estudio de algunos datos por separado. Para los tres primeros años se observará el tipo de usuario y el rango de edad que más utiliza el servicio, además del tiempo de viaje, mientras que, para los dos últimos años, se analizarán cuáles son los días del mes con mayor número de viajes.\n",
    "##### Finalmente, se hará un pequeño análisis de los datos durante los primeros meses de la pandemia donde se observará de forma evidente los estragos del confinamiento y la reducción de movimiento que se produjo.\n",
    "\n",
    "##### Los datos ofrecidos por la EMT pueden contener la siguiente información:\n",
    "##### Para los archivos en formato json\n",
    " - id: Identificación del movimiento\n",
    " - user_day_code: Código del ususario. Para una misma fecha, todos los movimeintos del mismo ususario tendrán el mismo código.\n",
    " - user_type: Número que indica el tipo de ususario que ha realizado el movimiento. Sus posibles valores son: \n",
    "    -   0: No se ha podido determinar el tipo de ususario \n",
    "    -    1: Usuario anual\n",
    "    -    2: Usuario ocasional\n",
    "    -    3: Trabajador de la empresa\n",
    " - ageRange: Núemro que indica el ragno de edad del ususario que ha realizado el movimiento. Sus posibles valores son:\n",
    "   - 0: No se ha podido determinar el rango de edad del usuario\n",
    "   -    1: El ususario tiene entre 0 y 16 años\n",
    "   -    2: El ususario tiene entre 17 y 18 años\n",
    "   -    3: El usuario tiene entre 19 y 26 años\n",
    "   -    4: El usuario tiene entre 27 y 40 años\n",
    "   -    5: El ususario tiene entre 41 y 65 años\n",
    "   -    6: El ususario tiene 66 años o más\n",
    " - zip_code: Texto que indica el código postal del ususario que ha realizado el movimiento\n",
    " - idunplug_station: Número de la estación de la que se desengancha la bicicleta.\n",
    " - idunplug_base: Número de la base en la que se desengancha la bicicleta\n",
    " - idplug_station: Número de la estación en la que se engancha la bicicleta\n",
    " - idplug_base: Número de la base en la que se engancha la bicicleta\n",
    " - unplug_hourTime: Franja horaria en la que se realiza el desenganche de la bicicleta.\n",
    " - travle_time: Tiempo total en segundos entre el desenganche y el enganche de la bicicleta.\n",
    " - track: Detalle del trallecto realizado por la bicicleta entre la estación de partida y la de destino\n",
    "\n",
    "#### Para los archivos en formato csv\n",
    " - fecha: Día en el que se produce el movimiento \n",
    " - idBike: Identificación del movimiento\n",
    " - fleet: Flota\n",
    " - trip_minutes: Tiempo total en minutos entre el desenganche y el enganche de la bicicleta\n",
    " - geolocation_unlock: Localización del desenganche\n",
    " - address_unlock: Dirección del desenganche\n",
    " - unlock_date: Fecha y hora en la que se realiza el desenganche\n",
    " - locktype y unclocktype: Lugar en la que se desengancha y encgancha la bicicleta\n",
    " - geolocation_lock: Localización del enganche\n",
    " - address_lock: Dirección del enganche\n",
    " - lock_date: Fecha y hora del enganche\n",
    " - station_unlock y station_lock: Número de estación en la que se engancha y desengancha la bicicleta\n",
    " - dock_unclock y dock_lock:  Número de base en la que se engancha y desengancha la bicicleta\n",
    " - unlock_station_name y lock_station_name: Nombre de la estación en la que se engancha y desengancha la bicicleta.\n",
    "\n",
    "\n"
   ]
  },
  {
   "cell_type": "code",
   "execution_count": 1,
   "id": "a75e3441",
   "metadata": {},
   "outputs": [],
   "source": [
    "import findspark\n",
    "findspark.init()"
   ]
  },
  {
   "cell_type": "code",
   "execution_count": 2,
   "id": "f2ba885a",
   "metadata": {},
   "outputs": [],
   "source": [
    "import pyspark\n",
    "from pyspark.sql import SparkSession"
   ]
  },
  {
   "cell_type": "code",
   "execution_count": 3,
   "id": "9a4f1095",
   "metadata": {},
   "outputs": [
    {
     "name": "stdout",
     "output_type": "stream",
     "text": [
      "23/05/27 12:42:27 WARN Utils: Your hostname, prpa resolves to a loopback address: 127.0.1.1; using 10.0.2.15 instead (on interface enp0s3)\n",
      "23/05/27 12:42:27 WARN Utils: Set SPARK_LOCAL_IP if you need to bind to another address\n"
     ]
    },
    {
     "name": "stderr",
     "output_type": "stream",
     "text": [
      "Setting default log level to \"WARN\".\n",
      "To adjust logging level use sc.setLogLevel(newLevel). For SparkR, use setLogLevel(newLevel).\n"
     ]
    },
    {
     "name": "stdout",
     "output_type": "stream",
     "text": [
      "23/05/27 12:42:38 WARN NativeCodeLoader: Unable to load native-hadoop library for your platform... using builtin-java classes where applicable\n"
     ]
    }
   ],
   "source": [
    "spark = SparkSession.builder.getOrCreate()"
   ]
  },
  {
   "cell_type": "code",
   "execution_count": 4,
   "id": "2b1a770a",
   "metadata": {},
   "outputs": [],
   "source": [
    "import json\n",
    "import csv"
   ]
  },
  {
   "cell_type": "markdown",
   "id": "8af7d994",
   "metadata": {},
   "source": [
    "Como hemos mencionado anteriormente, tendremos dos tipos de archivos, json y csv, que se ven de la siguiente manera:"
   ]
  },
  {
   "cell_type": "code",
   "execution_count": 20,
   "id": "80f1a217",
   "metadata": {},
   "outputs": [
    {
     "name": "stderr",
     "output_type": "stream",
     "text": [
      "                                                                                \r"
     ]
    },
    {
     "name": "stdout",
     "output_type": "stream",
     "text": [
      "Archivo tipo json, enero 2019\n",
      "+--------------------+--------------------+--------+-----------+--------------+-------------+----------------+--------------------+-----------+--------------------+--------------------+---------+--------+\n",
      "|     _corrupt_record|                 _id|ageRange|idplug_base|idplug_station|idunplug_base|idunplug_station|               track|travel_time|     unplug_hourTime|       user_day_code|user_type|zip_code|\n",
      "+--------------------+--------------------+--------+-----------+--------------+-------------+----------------+--------------------+-----------+--------------------+--------------------+---------+--------+\n",
      "|                null|{5c4b07ea2f38432e...|       0|         14|            83|           23|              82|{[{{[-3.6803143, ...|        162|{2019-01-01T00:00...|b3b5b61509ab89afb...|        1|        |\n",
      "|                null|{5c4b07ea2f38432e...|       5|         10|            36|            1|             133|{[{{[-3.7063451, ...|        415|{2019-01-01T00:00...|a18550d468153bb8e...|        1|   28005|\n",
      "|                null|{5c4b07ea2f38432e...|       0|          5|            90|            3|              25|{[{{[-3.6808068, ...|        545|{2019-01-01T00:00...|905737396c2fe343c...|        1|        |\n",
      "|{ \"_id\" : { \"$oid...|                null|    null|       null|          null|         null|            null|                null|       null|                null|                null|     null|    null|\n",
      "|                null|{5c4b07ea2f38432e...|       4|          4|            44|           12|              51|{[{{[-3.704693799...|        448|{2019-01-01T00:00...|ed1c1a22c120e7d42...|        1|   28005|\n",
      "|                null|{5c4b07ea2f38432e...|       0|         17|           125|            4|              44|                null|        639|{2019-01-01T00:00...|c7d4e8f50d4a318e4...|        1|        |\n",
      "|                null|{5c4b07ea2f38432e...|       0|          3|            11|            2|              17|{[{{[-3.694941, 4...|        362|{2019-01-01T00:00...|3c9e487b04b4b25e0...|        1|        |\n",
      "|                null|{5c4b07ea2f38432e...|       5|         17|           171|           11|             100|{[{{[-3.671566299...|        468|{2019-01-01T00:00...|b70eb1a71e53c6351...|        1|   28028|\n",
      "|                null|{5c4b07ea2f38432e...|       4|         13|            65|            2|              67|{[{{[-3.674721499...|        149|{2019-01-01T00:00...|1ad9b018315170d82...|        1|   28009|\n",
      "|                null|{5c4b07ea2f38432e...|       0|         20|           110|            2|              65|                null|        337|{2019-01-01T00:00...|f429ea17c7b9f0fbf...|        1|        |\n",
      "|                null|{5c4b07ea2f38432e...|       4|          1|            91|           23|              77|{[{{[-3.692040299...|        514|{2019-01-01T00:00...|295ac2a11ec7c646d...|        1|   28015|\n",
      "|                null|{5c4b07ea2f38432e...|       0|         17|            44|            4|             127|{[{{[-3.699483299...|       1122|{2019-01-01T00:00...|1c77fcb20cd4db492...|        1|        |\n",
      "|                null|{5c4b07ea2f38432e...|       4|          6|            91|           10|              90|                null|        278|{2019-01-01T00:00...|bcead2454cec79f11...|        1|   28830|\n",
      "|                null|{5c4b07ea2f38432e...|       4|         24|           100|           10|              30|{[{{[-3.689807, 4...|        128|{2019-01-01T00:00...|aa4275d4a7ef4a0b7...|        1|   28001|\n",
      "|                null|{5c4b07ea2f38432e...|       0|         24|           129|           17|             100|{[{{[-3.698589, 4...|        446|{2019-01-01T00:00...|6c08be550025c3ae6...|        1|        |\n",
      "|                null|{5c4b07ea2f38432e...|       0|          8|           171|           29|              21|{[{{[-3.6713238, ...|        681|{2019-01-01T00:00...|f7f2cc6a3233058cb...|        1|        |\n",
      "|                null|{5c4b07ea2f38432e...|       3|         10|            81|            4|              76|{[{{[-3.6703095, ...|        195|{2019-01-01T00:00...|f544660aef55e1ed8...|        1|   28009|\n",
      "|                null|{5c4b07ea2f38432e...|       0|         24|            75|            3|             108|                null|        492|{2019-01-01T00:00...|30b8977028dbc815d...|        1|        |\n",
      "|                null|{5c4b07ea2f38432e...|       0|         10|            62|           13|             112|{[{{[-3.697834799...|        349|{2019-01-01T00:00...|3ccf7f2f3439f8348...|        1|        |\n",
      "|                null|{5c4b07ea2f38432e...|       4|          1|            79|            1|              79|{[{{[-3.677723799...|       1003|{2019-01-01T00:00...|c0c28561f757759a9...|        1|   28009|\n",
      "+--------------------+--------------------+--------+-----------+--------------+-------------+----------------+--------------------+-----------+--------------------+--------------------+---------+--------+\n",
      "only showing top 20 rows\n",
      "\n",
      "Archivo tipo csv, enero 2022\n",
      "+----------+--------------------+------+-----+------------+--------------------+--------------+-------------------+--------+----------+--------------------+------------+-------------------+--------------+-----------+--------------------+------------+---------+--------------------+\n",
      "|     fecha|              idTrip|idBike|fleet|trip_minutes|  geolocation_unlock|address_unlock|        unlock_date|locktype|unlocktype|    geolocation_lock|address_lock|          lock_date|station_unlock|dock_unlock| unlock_station_name|station_lock|dock_lock|   lock_station_name|\n",
      "+----------+--------------------+------+-----+------------+--------------------+--------------+-------------------+--------+----------+--------------------+------------+-------------------+--------------+-----------+--------------------+------------+---------+--------------------+\n",
      "|      null|                null|  null| null|        null|                null|          null|               null|    null|      null|                null|        null|               null|          null|       null|                null|        null|     null|                null|\n",
      "|2022-01-01|489978239_1718_20...|  1718|    1|       16.28|{'type': 'Point',...|          null|2022-01-01T00:02:20| STATION|   STATION|{'type': 'Point',...|        null|2022-01-01T00:18:37|           200|          3|Avenida de los To...|          64|        4|Plaza de la Indep...|\n",
      "|      null|                null|  null| null|        null|                null|          null|               null|    null|      null|                null|        null|               null|          null|       null|                null|        null|     null|                null|\n",
      "|2022-01-01|06023769T_7340_20...|  7340|    1|         7.1|{'type': 'Point',...|          null|2022-01-01T00:07:53| STATION|   STATION|{'type': 'Point',...|        null|2022-01-01T00:14:59|            69|          5|       Antonio Maura|         169|       17|      Manuel Silvela|\n",
      "|      null|                null|  null| null|        null|                null|          null|               null|    null|      null|                null|        null|               null|          null|       null|                null|        null|     null|                null|\n",
      "|2022-01-01|50856526F_3861_20...|  3861|    1|        0.48|{'type': 'Point',...|          null|2022-01-01T00:09:21| STATION|   STATION|{'type': 'Point',...|        null|2022-01-01T00:09:50|            73|         21|Puerta del Ángel ...|          73|       21|Puerta del Ángel ...|\n",
      "|      null|                null|  null| null|        null|                null|          null|               null|    null|      null|                null|        null|               null|          null|       null|                null|        null|     null|                null|\n",
      "|2022-01-01|79006741Q_7657_20...|  7657|    1|        6.62|{'type': 'Point',...|          null|2022-01-01T00:09:52| STATION|   STATION|{'type': 'Point',...|        null|2022-01-01T00:16:29|           192|         22|    Marqués de Zafra|         190|       17|         Parque Roma|\n",
      "|      null|                null|  null| null|        null|                null|          null|               null|    null|      null|                null|        null|               null|          null|       null|                null|        null|     null|                null|\n",
      "|2022-01-01|76959007H_6653_20...|  6653|    1|        8.07|{'type': 'Point',...|          null|2022-01-01T00:09:57| STATION|   STATION|{'type': 'Point',...|        null|2022-01-01T00:18:01|           183|          3|Jaime el Conquist...|          47|       24|       Jesús y María|\n",
      "|      null|                null|  null| null|        null|                null|          null|               null|    null|      null|                null|        null|               null|          null|       null|                null|        null|     null|                null|\n",
      "|2022-01-01|00833674Q_4236_20...|  4236|    1|        6.48|{'type': 'Point',...|          null|2022-01-01T00:10:00| STATION|   STATION|{'type': 'Point',...|        null|2022-01-01T19:16:29|            40|          8|       Plaza Ramales|          40|        8|       Plaza Ramales|\n",
      "|      null|                null|  null| null|        null|                null|          null|               null|    null|      null|                null|        null|               null|          null|       null|                null|        null|     null|                null|\n",
      "|2022-01-01|50756764L_5729_20...|  5729|    1|        9.72|{'type': 'Point',...|          null|2022-01-01T00:10:06| STATION|   STATION|{'type': 'Point',...|        null|2022-01-01T00:19:49|            62|         22|    Augusto Figueroa|          57|       22|   Plaza de Lavapiés|\n",
      "|      null|                null|  null| null|        null|                null|          null|               null|    null|      null|                null|        null|               null|          null|       null|                null|        null|     null|                null|\n",
      "|2022-01-01|50856526F_7177_20...|  7177|    1|       15.02|{'type': 'Point',...|          null|2022-01-01T00:10:53| STATION|   STATION|{'type': 'Point',...|        null|2022-01-01T00:25:54|            73|         27|Puerta del Ángel ...|         158|       15|Plaza de San Juan...|\n",
      "|      null|                null|  null| null|        null|                null|          null|               null|    null|      null|                null|        null|               null|          null|       null|                null|        null|     null|                null|\n",
      "|2022-01-01|Y4080769P_5727_20...|  5727|    1|       28.12|{'type': 'Point',...|          null|2022-01-01T00:11:29| STATION|   STATION|{'type': 'Point',...|        null|2022-01-01T00:39:36|           167|         11|       Castellana 42|         221|       16|   Glorieta de Cádiz|\n",
      "|      null|                null|  null| null|        null|                null|          null|               null|    null|      null|                null|        null|               null|          null|       null|                null|        null|     null|                null|\n",
      "|2022-01-01|50349203H_1083_20...|  1083|    1|        0.23|{'type': 'Point',...|          null|2022-01-01T00:12:48| STATION|   STATION|{'type': 'Point',...|        null|2022-01-01T00:13:02|            80|         24|Puerta de Mariano...|          80|       24|Puerta de Mariano...|\n",
      "+----------+--------------------+------+-----+------------+--------------------+--------------+-------------------+--------+----------+--------------------+------------+-------------------+--------------+-----------+--------------------+------------+---------+--------------------+\n",
      "only showing top 20 rows\n",
      "\n"
     ]
    }
   ],
   "source": [
    "enero2019 = spark.read.json('201901.json')\n",
    "enero2022 = spark.read.csv('202201.csv', sep=';', header = True)\n",
    "\n",
    "print('Archivo tipo json, enero 2019')\n",
    "enero2019.show()\n",
    "print('Archivo tipo csv, enero 2022')\n",
    "enero2022.show()"
   ]
  },
  {
   "cell_type": "code",
   "execution_count": 8,
   "id": "524ead2a",
   "metadata": {},
   "outputs": [
    {
     "name": "stderr",
     "output_type": "stream",
     "text": [
      "                                                                                \r"
     ]
    }
   ],
   "source": [
    "enero2019 = spark.read.json('201901.json')\n",
    "enero2020 = spark.read.json('202001.json')\n",
    "enero2021 = spark.read.json('202101.json')\n",
    "enero2022 = spark.read.csv('202201.csv', sep=';', header = True)\n",
    "enero2023 = spark.read.csv('202301.csv', sep=';', header = True)"
   ]
  },
  {
   "cell_type": "code",
   "execution_count": 30,
   "id": "a9f44165",
   "metadata": {},
   "outputs": [
    {
     "name": "stderr",
     "output_type": "stream",
     "text": [
      "                                                                                \r"
     ]
    },
    {
     "name": "stdout",
     "output_type": "stream",
     "text": [
      "Número de desplazamientos Enero 2019: 279223\n",
      "Número de desplazamientos Enero 2020: 272875\n",
      "Número de desplazamientos Enero 2021: 125642\n",
      "Número de desplazamientos Enero 2022: 244760\n",
      "Número de desplazamientos Enero 2023: 295923\n"
     ]
    }
   ],
   "source": [
    "print('Número de desplazamientos Enero 2019: ' + str(enero2019.count()))\n",
    "print('Número de desplazamientos Enero 2020: ' + str(enero2020.count()))\n",
    "print('Número de desplazamientos Enero 2021: ' + str(enero2021.count()))\n",
    "print('Número de desplazamientos Enero 2022: ' + str(enero2022.count()//2))\n",
    "print('Número de desplazamientos Enero 2023: ' + str(enero2023.count()//2))"
   ]
  },
  {
   "cell_type": "markdown",
   "id": "bbb06fe6",
   "metadata": {},
   "source": [
    "El número de desplazamientos de enero de 2022 y 2023 lo hemos dividido entre dos porque los datos están intercalados con filas en blanco\n",
    "\n",
    "Como podemos observar, en 2021 sufre una caída en la utilización de la bicicleta"
   ]
  },
  {
   "cell_type": "markdown",
   "id": "631bc364",
   "metadata": {},
   "source": [
    "Vamos a ver las estaciones donde más se desbloquean las bicicletas"
   ]
  },
  {
   "cell_type": "code",
   "execution_count": 10,
   "id": "e671f16e",
   "metadata": {},
   "outputs": [],
   "source": [
    "unlock2019 = enero2019.groupBy('idunplug_station').count()\n",
    "unlock2020 = enero2020.groupBy('idunplug_station').count()\n",
    "unlock2021 = enero2021.groupBy('idunplug_station').count()\n",
    "unlock2022 = enero2022.groupBy('station_unlock').count()\n",
    "unlock2023 = enero2023.groupBy('station_unlock').count()\n"
   ]
  },
  {
   "cell_type": "code",
   "execution_count": 11,
   "id": "3a726980",
   "metadata": {},
   "outputs": [
    {
     "name": "stdout",
     "output_type": "stream",
     "text": [
      "ENERO 2019\n"
     ]
    },
    {
     "name": "stderr",
     "output_type": "stream",
     "text": [
      "                                                                                \r"
     ]
    },
    {
     "name": "stdout",
     "output_type": "stream",
     "text": [
      "+----------------+-----+\n",
      "|idunplug_station|count|\n",
      "+----------------+-----+\n",
      "|            null|47215|\n",
      "|             175| 3480|\n",
      "|             163| 3708|\n",
      "|             129| 3513|\n",
      "+----------------+-----+\n",
      "\n",
      "ENERO 2020\n"
     ]
    },
    {
     "name": "stderr",
     "output_type": "stream",
     "text": [
      "                                                                                \r"
     ]
    },
    {
     "name": "stdout",
     "output_type": "stream",
     "text": [
      "+----------------+-----+\n",
      "|idunplug_station|count|\n",
      "+----------------+-----+\n",
      "|              57| 3075|\n",
      "|              43| 3674|\n",
      "|              83| 3057|\n",
      "|             175| 3740|\n",
      "+----------------+-----+\n",
      "\n",
      "ENERO 2021\n",
      "+----------------+-----+\n",
      "|idunplug_station|count|\n",
      "+----------------+-----+\n",
      "|              57| 1637|\n",
      "|              43| 1586|\n",
      "|             208| 1158|\n",
      "|             175| 1182|\n",
      "+----------------+-----+\n",
      "\n",
      "ENERO 2022\n"
     ]
    },
    {
     "name": "stderr",
     "output_type": "stream",
     "text": [
      "                                                                                \r"
     ]
    },
    {
     "name": "stdout",
     "output_type": "stream",
     "text": [
      "+--------------+------+\n",
      "|station_unlock| count|\n",
      "+--------------+------+\n",
      "|          null|246630|\n",
      "|            43|  2846|\n",
      "|           175|  2421|\n",
      "|            57|  2377|\n",
      "+--------------+------+\n",
      "\n",
      "ENERO 2023\n"
     ]
    },
    {
     "name": "stderr",
     "output_type": "stream",
     "text": [
      "\r",
      "[Stage 44:>                                                         (0 + 4) / 4]\r"
     ]
    },
    {
     "name": "stdout",
     "output_type": "stream",
     "text": [
      "+--------------+------+\n",
      "|station_unlock| count|\n",
      "+--------------+------+\n",
      "|          null|296714|\n",
      "|            43|  3657|\n",
      "|           220|  2671|\n",
      "|           175|  2832|\n",
      "|            57|  3752|\n",
      "+--------------+------+\n",
      "\n"
     ]
    },
    {
     "name": "stderr",
     "output_type": "stream",
     "text": [
      "\r",
      "[Stage 44:===========================================>              (3 + 1) / 4]\r",
      "\r",
      "                                                                                \r"
     ]
    }
   ],
   "source": [
    "print ('ENERO 2019')\n",
    "unlock2019.filter(unlock2019['count']>3400).show()\n",
    "print ('ENERO 2020')\n",
    "unlock2020.filter(unlock2020['count']>3000).show()\n",
    "print ('ENERO 2021')\n",
    "unlock2021.filter(unlock2021['count']>1100).show()\n",
    "print ('ENERO 2022')\n",
    "unlock2022.filter(unlock2022['count']>2300).show()\n",
    "print ('ENERO 2023')\n",
    "unlock2023.filter(unlock2023['count']>2500).show()"
   ]
  },
  {
   "cell_type": "markdown",
   "id": "e5e12fee",
   "metadata": {},
   "source": [
    "#### ESTACIONES DONDE MÁS SE COGEN BICICLETAS\n",
    "\n",
    "ENERO 2019\n",
    "- 163: Paseo de la Esperanza, 83\n",
    "- 129: Calle de Jose Abascal, 33\n",
    "- 175: Calle Jaime el Conquistador, 30\n",
    "\n",
    "ENERO 2020\n",
    "- 175: Calle Jaime el Conquistador, 30\n",
    "- 43: Calle de Lavapiés, 36\n",
    "- 57/83: Calle de Santa Cruz de Marcenado, 24 / Pio Baroja, 8B\n",
    "\n",
    "ENERO 2021\n",
    "- 57: Calle de Santa Cruz de Marcenado, 24\n",
    "- 43: Calle de Lavapiés, 36\n",
    "- 175/208: Calle Jaime el Conquistador, 30 / Paseo de la Castellana, S/N\n",
    "\n",
    "ENERO 2022\n",
    "- 43: Calle de Lavapiés, 36\n",
    "- 175: Calle Jaime el Conquistador, 30\n",
    "- 57: Calle de Santa Cruz de Marcenado, 24\n",
    "\n",
    "ENERO 2023\n",
    "- 57: Calle de Santa Cruz de Marcenado, 24\n",
    "- 43: Calle de Lavapiés, 36\n",
    "- 175: Calle Jaime el Conquistador, 30\n",
    "\n",
    "En general, donde más se cogen es en la estación 175, 43, 57"
   ]
  },
  {
   "cell_type": "markdown",
   "id": "43e75b19",
   "metadata": {},
   "source": [
    "Ahora, vamos a ver las estaciones donde más se bloquean las bicicletas"
   ]
  },
  {
   "cell_type": "code",
   "execution_count": 12,
   "id": "4f2a7e0a",
   "metadata": {},
   "outputs": [],
   "source": [
    "lock2019 = enero2019.groupBy('idplug_station').count()\n",
    "lock2020 = enero2020.groupBy('idplug_station').count()\n",
    "lock2021 = enero2021.groupBy('idplug_station').count()\n",
    "lock2022 = enero2022.groupBy('station_lock').count()\n",
    "lock2023 = enero2023.groupBy('station_lock').count()"
   ]
  },
  {
   "cell_type": "code",
   "execution_count": 13,
   "id": "53549f1c",
   "metadata": {},
   "outputs": [
    {
     "name": "stdout",
     "output_type": "stream",
     "text": [
      "ENERO 2019\n"
     ]
    },
    {
     "name": "stderr",
     "output_type": "stream",
     "text": [
      "                                                                                \r"
     ]
    },
    {
     "name": "stdout",
     "output_type": "stream",
     "text": [
      "+--------------+-----+\n",
      "|idplug_station|count|\n",
      "+--------------+-----+\n",
      "|            43| 3336|\n",
      "|          null|47215|\n",
      "|           175| 3608|\n",
      "|           163| 3774|\n",
      "|           129| 3396|\n",
      "+--------------+-----+\n",
      "\n",
      "ENERO 2020\n"
     ]
    },
    {
     "name": "stderr",
     "output_type": "stream",
     "text": [
      "                                                                                \r"
     ]
    },
    {
     "name": "stdout",
     "output_type": "stream",
     "text": [
      "+--------------+-----+\n",
      "|idplug_station|count|\n",
      "+--------------+-----+\n",
      "|            57| 3057|\n",
      "|            43| 3748|\n",
      "|            83| 3068|\n",
      "|           175| 3741|\n",
      "+--------------+-----+\n",
      "\n",
      "ENERO 2021\n",
      "+--------------+-----+\n",
      "|idplug_station|count|\n",
      "+--------------+-----+\n",
      "|           149| 1101|\n",
      "|            57| 1639|\n",
      "|            43| 1594|\n",
      "|           208| 1179|\n",
      "|           175| 1170|\n",
      "+--------------+-----+\n",
      "\n",
      "ENERO 2022\n"
     ]
    },
    {
     "name": "stderr",
     "output_type": "stream",
     "text": [
      "                                                                                \r"
     ]
    },
    {
     "name": "stdout",
     "output_type": "stream",
     "text": [
      "+------------+------+\n",
      "|station_lock| count|\n",
      "+------------+------+\n",
      "|        null|247067|\n",
      "|          43|  2901|\n",
      "|         175|  2508|\n",
      "|          57|  2418|\n",
      "+------------+------+\n",
      "\n",
      "ENERO 2023\n"
     ]
    },
    {
     "name": "stderr",
     "output_type": "stream",
     "text": [
      "\r",
      "[Stage 59:==============>                                           (1 + 3) / 4]\r"
     ]
    },
    {
     "name": "stdout",
     "output_type": "stream",
     "text": [
      "+------------+------+\n",
      "|station_lock| count|\n",
      "+------------+------+\n",
      "|        null|296887|\n",
      "|          43|  3698|\n",
      "|         220|  2848|\n",
      "|         175|  2906|\n",
      "|          57|  3759|\n",
      "+------------+------+\n",
      "\n"
     ]
    },
    {
     "name": "stderr",
     "output_type": "stream",
     "text": [
      "\r",
      "                                                                                \r"
     ]
    }
   ],
   "source": [
    "print ('ENERO 2019')\n",
    "lock2019.filter(lock2019['count']>3300).show()\n",
    "print ('ENERO 2020')\n",
    "lock2020.filter(lock2020['count']>3000).show()\n",
    "print ('ENERO 2021')\n",
    "lock2021.filter(lock2021['count']>1100).show()\n",
    "print ('ENERO 2022')\n",
    "lock2022.filter(lock2022['count']>2300).show()\n",
    "print ('ENERO 2023')\n",
    "lock2023.filter(lock2023['count']>2500).show()"
   ]
  },
  {
   "cell_type": "markdown",
   "id": "0aac6de4",
   "metadata": {},
   "source": [
    "#### ESTACIONES DONDE MÁS SE DEVUELVEN BICICLETAS\n",
    "\n",
    "ENERO 2019\n",
    "- 163: Paseo de la Esperanza, 83\n",
    "- 175: Calle Jaime el Conquistador, 30\n",
    "- 129/43: Calle Jose Abascal, 33 / Calle de Lavapiés, 36\n",
    "\n",
    "ENERO 2020\n",
    "- 43: Calle de Lavapiés, 36\n",
    "- 175: Calle Jaime el Conquistador, 30\n",
    "- 83/57: Pio Baroja, 8B / Calle de Santa Cruz de Marcenado, 24\n",
    "\n",
    "ENERO 2021\n",
    "- 57: Calle de Santa Cruz de Marcenado, 24\n",
    "- 43: Calle de Lavapiés, 36\n",
    "- 208/175: Paseo de la Castellana, S/N / Calle Jaime el Conquistador, 30\n",
    "\n",
    "ENERO 2022\n",
    "- 43: Calle de Lavapiés, 36\n",
    "- 175: Calle Jaime el Conquistador, 30\n",
    "- 57: Calle de Santa Cruz de Marcenado, 24\n",
    "\n",
    "ENERO 2023\n",
    "- 57: Calle de Santa Cruz de Marcenado, 24\n",
    "- 43: Calle de Lavapiés, 36\n",
    "- 175/220: Calle Jaime el Conquistador, 30 / Arroyo de las Pilillas , 4\n",
    "\n",
    "En general, donde más se devuelven es en la estación 175, 43, 57"
   ]
  },
  {
   "cell_type": "markdown",
   "id": "6bab8766",
   "metadata": {},
   "source": [
    "Se podría decir que las estaciones más utilizadas son 175, 43, 57"
   ]
  },
  {
   "cell_type": "markdown",
   "id": "4e171640",
   "metadata": {},
   "source": [
    "A continuación, veremos las estaciones donde menos bicicletas se desbloquean"
   ]
  },
  {
   "cell_type": "code",
   "execution_count": 20,
   "id": "6788ea27",
   "metadata": {},
   "outputs": [
    {
     "name": "stdout",
     "output_type": "stream",
     "text": [
      "ENERO 2019\n"
     ]
    },
    {
     "name": "stderr",
     "output_type": "stream",
     "text": [
      "[Stage 65:==============================================>           (4 + 1) / 5]\r"
     ]
    },
    {
     "name": "stdout",
     "output_type": "stream",
     "text": [
      "+----------------+-----+\n",
      "|idunplug_station|count|\n",
      "+----------------+-----+\n",
      "|              29|  327|\n",
      "|              28|  268|\n",
      "|            2008|    1|\n",
      "+----------------+-----+\n",
      "\n",
      "ENERO 2020\n"
     ]
    },
    {
     "name": "stderr",
     "output_type": "stream",
     "text": [
      "\r\n",
      "                                                                                \r"
     ]
    },
    {
     "name": "stdout",
     "output_type": "stream",
     "text": [
      "+----------------+-----+\n",
      "|idunplug_station|count|\n",
      "+----------------+-----+\n",
      "|              29|  339|\n",
      "|              28|  167|\n",
      "+----------------+-----+\n",
      "\n",
      "ENERO 2021\n",
      "+----------------+-----+\n",
      "|idunplug_station|count|\n",
      "+----------------+-----+\n",
      "|             257|   49|\n",
      "|             265|   52|\n",
      "+----------------+-----+\n",
      "\n",
      "ENERO 2022\n",
      "+--------------+-----+\n",
      "|station_unlock|count|\n",
      "+--------------+-----+\n",
      "|           115|   11|\n",
      "|           123|    9|\n",
      "|           124|   12|\n",
      "+--------------+-----+\n",
      "\n",
      "ENERO 2023\n"
     ]
    },
    {
     "name": "stderr",
     "output_type": "stream",
     "text": [
      "\r\n",
      "[Stage 77:>                                                         (0 + 4) / 4]\r"
     ]
    },
    {
     "name": "stdout",
     "output_type": "stream",
     "text": [
      "+--------------+-----+\n",
      "|station_unlock|count|\n",
      "+--------------+-----+\n",
      "|           117|  164|\n",
      "|           889|    3|\n",
      "|            89|    9|\n",
      "+--------------+-----+\n",
      "\n"
     ]
    },
    {
     "name": "stderr",
     "output_type": "stream",
     "text": [
      "\r\n",
      "[Stage 77:===========================================>              (3 + 1) / 4]\r\n",
      "\r\n",
      "                                                                                \r"
     ]
    }
   ],
   "source": [
    "print ('ENERO 2019')\n",
    "unlock2019.filter(unlock2019['count']<350).show()\n",
    "print ('ENERO 2020')\n",
    "unlock2020.filter(unlock2020['count']<400).show()\n",
    "print ('ENERO 2021')\n",
    "unlock2021.filter(unlock2021['count']<60).show()\n",
    "print ('ENERO 2022')\n",
    "unlock2022.filter(unlock2022['count']<20).show()\n",
    "print ('ENERO 2023')\n",
    "unlock2023.filter(unlock2023['count']<200).show()"
   ]
  },
  {
   "cell_type": "markdown",
   "id": "33650832",
   "metadata": {},
   "source": [
    "#### ESTACIONES DONDE MENOS SE COGEN BICICLETAS\n",
    "\n",
    "ENERO 2019\n",
    "- 2008: NO EXISTE\n",
    "- 28: Calle de Alcalá, 26\n",
    "- 29: Marqués de Cubas, 25\n",
    "\n",
    "ENERO 2020\n",
    "- 28: Calle de Alcalá, 26\n",
    "- 29: Marqués de Cubas, 25\n",
    "\n",
    "ENERO 2021\n",
    "- 49: Ronda de Atocha, 36\n",
    "- 52: Plaza de Santa Ana, 9\n",
    "\n",
    "ENERO 2022\n",
    "- 123: Guzmán el Bueno, 2\n",
    "- 115/124: Plaza del Marqués de Cerralbo, S/N / Manuel Silvela, 18\n",
    "\n",
    "ENERO 2023\n",
    "- 889: NO EXISTE\n",
    "- 89: Ayala, 102\n",
    "- 117: Altamirano, 24\n",
    "\n",
    "Podemos ver una diferencia muy grande entre estaciones, siendo la 89 utilizada 9 veces y la 117 utilizada 164 veces\n",
    "\n",
    "Ninguna de las estaciones con menor número de desengaches se repite a lo largo de los años.\n",
    "\n",
    "También podemos ver que algunos datos se han recogido erroneamente como en enero de 2019 y 2023, donde aparecen estaciones que no existen"
   ]
  },
  {
   "cell_type": "markdown",
   "id": "f9c5fe29",
   "metadata": {},
   "source": [
    "Ahora veremos las estaciones donde menos se bloquean las bicicletas"
   ]
  },
  {
   "cell_type": "code",
   "execution_count": 14,
   "id": "d674ee11",
   "metadata": {},
   "outputs": [
    {
     "name": "stdout",
     "output_type": "stream",
     "text": [
      "ENERO 2019\n"
     ]
    },
    {
     "name": "stderr",
     "output_type": "stream",
     "text": [
      "                                                                                \r"
     ]
    },
    {
     "name": "stdout",
     "output_type": "stream",
     "text": [
      "+--------------+-----+\n",
      "|idplug_station|count|\n",
      "+--------------+-----+\n",
      "|            29|  344|\n",
      "|            28|  271|\n",
      "|          2008|    1|\n",
      "+--------------+-----+\n",
      "\n",
      "ENERO 2020\n"
     ]
    },
    {
     "name": "stderr",
     "output_type": "stream",
     "text": [
      "                                                                                \r"
     ]
    },
    {
     "name": "stdout",
     "output_type": "stream",
     "text": [
      "+--------------+-----+\n",
      "|idplug_station|count|\n",
      "+--------------+-----+\n",
      "|            29|  332|\n",
      "|            28|  170|\n",
      "+--------------+-----+\n",
      "\n",
      "ENERO 2021\n",
      "+--------------+-----+\n",
      "|idplug_station|count|\n",
      "+--------------+-----+\n",
      "|           266|   52|\n",
      "|           257|   35|\n",
      "|           265|   52|\n",
      "|           267|   59|\n",
      "|           261|   54|\n",
      "+--------------+-----+\n",
      "\n",
      "ENERO 2022\n"
     ]
    },
    {
     "name": "stderr",
     "output_type": "stream",
     "text": [
      "                                                                                \r"
     ]
    },
    {
     "name": "stdout",
     "output_type": "stream",
     "text": [
      "+------------+-----+\n",
      "|station_lock|count|\n",
      "+------------+-----+\n",
      "|          28|  185|\n",
      "|         257|  183|\n",
      "|         266|  117|\n",
      "|         225|  168|\n",
      "+------------+-----+\n",
      "\n",
      "ENERO 2023\n"
     ]
    },
    {
     "name": "stderr",
     "output_type": "stream",
     "text": [
      "\r",
      "[Stage 74:>                                                         (0 + 4) / 4]\r"
     ]
    },
    {
     "name": "stdout",
     "output_type": "stream",
     "text": [
      "+------------+-----+\n",
      "|station_lock|count|\n",
      "+------------+-----+\n",
      "|          28|  180|\n",
      "|         117|  160|\n",
      "|         889|    4|\n",
      "|          89|   12|\n",
      "+------------+-----+\n",
      "\n"
     ]
    },
    {
     "name": "stderr",
     "output_type": "stream",
     "text": [
      "\r",
      "[Stage 74:=============================>                            (2 + 2) / 4]\r",
      "\r",
      "                                                                                \r"
     ]
    }
   ],
   "source": [
    "print ('ENERO 2019')\n",
    "lock2019.filter(lock2019['count']<350).show()\n",
    "print ('ENERO 2020')\n",
    "lock2020.filter(lock2020['count']<400).show()\n",
    "print ('ENERO 2021')\n",
    "lock2021.filter(lock2021['count']<60).show()\n",
    "print ('ENERO 2022')\n",
    "lock2022.filter(lock2022['count']<200).show()\n",
    "print ('ENERO 2023')\n",
    "lock2023.filter(lock2023['count']<200).show()"
   ]
  },
  {
   "cell_type": "markdown",
   "id": "884da984",
   "metadata": {},
   "source": [
    "#### ESTACIONES DONDE MENOS SE DEVUELVEN BICICLETAS\n",
    "\n",
    "ENERO 2019\n",
    "- 2008: NO EXISTE\n",
    "- 28: Calle de Alcalá, 26\n",
    "- 29: Marqués de Cubas, 25\n",
    "\n",
    "ENERO 2020\n",
    "- 28: Calle de Alcalá, 26\n",
    "- 29: Marqués de Cubas, 25\n",
    "\n",
    "ENERO 2021\n",
    "- 257: Avenida de Juan de Herrera, 1\n",
    "- 266/265: NO APARECEN EN LA WEB\n",
    "\n",
    "ENERO 2022                                                                           \n",
    "- 266: NO APARECE EN LA WEB\n",
    "- 225: Sierra Toledana, 33\n",
    "\n",
    "La 266 sigue abajo en el ranking pero ha aumentado considerablemente su uso\n",
    "\n",
    "\n",
    "ENERO 2023\n",
    "- 889: NO EXISTE\n",
    "- 89: Ayala, 102\n",
    "- 117/28: Altamirano, 24 / Alcalá , 26\n",
    "\n",
    "En general, donde menos se devuelven es en la estación 28\n",
    "\n",
    "Una vez más, podemos ver que aparecen datos desactualizados en 2021 y 2022, y algunos erróneos en 2019 y 2023"
   ]
  },
  {
   "cell_type": "markdown",
   "id": "93a3f45d",
   "metadata": {},
   "source": [
    "Se podría decir que la estación menos utilizada es la 28"
   ]
  },
  {
   "cell_type": "markdown",
   "id": "3444145a",
   "metadata": {},
   "source": [
    "Vamos a separar por tipos de archivos para poder tratar mejor los datos, empezamos con los de tipo json y finalizamos con los de tipo csv"
   ]
  },
  {
   "cell_type": "markdown",
   "id": "6afd130f",
   "metadata": {},
   "source": [
    "#### ARCHIVOS JSON (2019, 2020, 2021)"
   ]
  },
  {
   "cell_type": "markdown",
   "id": "d00e25b0",
   "metadata": {},
   "source": [
    "Analizamos el tipo de usuario que más utiliza el servicio"
   ]
  },
  {
   "cell_type": "code",
   "execution_count": 23,
   "id": "ecec2436",
   "metadata": {},
   "outputs": [
    {
     "name": "stdout",
     "output_type": "stream",
     "text": [
      "TIPO DE USUARIO QUE LO UTILIZA\n",
      "ENERO 2019\n"
     ]
    },
    {
     "name": "stderr",
     "output_type": "stream",
     "text": [
      "                                                                                \r"
     ]
    },
    {
     "name": "stdout",
     "output_type": "stream",
     "text": [
      "+---------+------+\n",
      "|user_type| count|\n",
      "+---------+------+\n",
      "|        0|  1323|\n",
      "|     null| 47215|\n",
      "|        1|210211|\n",
      "|        3| 19069|\n",
      "|        2|  1405|\n",
      "+---------+------+\n",
      "\n",
      "ENERO 2020\n"
     ]
    },
    {
     "name": "stderr",
     "output_type": "stream",
     "text": [
      "\r",
      "[Stage 143:==========================================>              (3 + 1) / 4]\r",
      "\r",
      "                                                                                \r"
     ]
    },
    {
     "name": "stdout",
     "output_type": "stream",
     "text": [
      "+---------+------+\n",
      "|user_type| count|\n",
      "+---------+------+\n",
      "|        1|249537|\n",
      "|        3| 22693|\n",
      "|        2|   645|\n",
      "+---------+------+\n",
      "\n",
      "ENERO 2021\n",
      "+---------+------+\n",
      "|user_type| count|\n",
      "+---------+------+\n",
      "|        6|   684|\n",
      "|        1|119912|\n",
      "|        3|  4762|\n",
      "|        2|   284|\n",
      "+---------+------+\n",
      "\n"
     ]
    }
   ],
   "source": [
    "print('TIPO DE USUARIO QUE LO UTILIZA')\n",
    "print ('ENERO 2019')\n",
    "enero2019.groupBy('user_type').count().show()\n",
    "print ('ENERO 2020')\n",
    "enero2020.groupBy('user_type').count().show()\n",
    "print ('ENERO 2021')\n",
    "enero2021.groupBy('user_type').count().show()"
   ]
  },
  {
   "cell_type": "markdown",
   "id": "03a1129d",
   "metadata": {},
   "source": [
    "#### TIPO DE USUARIO QUE MÁS UTILIZA EL SERVICIO\n",
    "El grupo de usuarios que más utiliza la bicicleta es el número 1 y 3, asociados a pase anual y empleados.\n",
    "En enero 2021 desciende considerablemente el número, como hemos visto antes."
   ]
  },
  {
   "cell_type": "markdown",
   "id": "5f0fe606",
   "metadata": {},
   "source": [
    "Ahora, observemos el tiempo de utilización total de las bicicletas por tipo de usuario"
   ]
  },
  {
   "cell_type": "code",
   "execution_count": 29,
   "id": "38db70bf",
   "metadata": {},
   "outputs": [
    {
     "name": "stdout",
     "output_type": "stream",
     "text": [
      "TIEMPO EN SEGUNDOS UTILIZACIÓN TOTAL\n",
      "ENERO 2019\n"
     ]
    },
    {
     "name": "stderr",
     "output_type": "stream",
     "text": [
      "                                                                                \r"
     ]
    },
    {
     "name": "stdout",
     "output_type": "stream",
     "text": [
      "+---------+----------------+\n",
      "|user_type|sum(travel_time)|\n",
      "+---------+----------------+\n",
      "|        0|         2592405|\n",
      "|     null|            null|\n",
      "|        1|       165544356|\n",
      "|        3|        69331926|\n",
      "|        2|         2563298|\n",
      "+---------+----------------+\n",
      "\n",
      "ENERO 2020\n"
     ]
    },
    {
     "name": "stderr",
     "output_type": "stream",
     "text": [
      "\r",
      "[Stage 161:==========================================>              (3 + 1) / 4]\r",
      "\r",
      "                                                                                \r"
     ]
    },
    {
     "name": "stdout",
     "output_type": "stream",
     "text": [
      "+---------+----------------+\n",
      "|user_type|sum(travel_time)|\n",
      "+---------+----------------+\n",
      "|        1|       211759904|\n",
      "|        3|        92907755|\n",
      "|        2|         1505971|\n",
      "+---------+----------------+\n",
      "\n",
      "ENERO 2021\n",
      "+---------+----------------+\n",
      "|user_type|sum(travel_time)|\n",
      "+---------+----------------+\n",
      "|        6|         1351215|\n",
      "|        1|       126578813|\n",
      "|        3|        27008414|\n",
      "|        2|          699819|\n",
      "+---------+----------------+\n",
      "\n"
     ]
    }
   ],
   "source": [
    "print('TIEMPO EN SEGUNDOS UTILIZACIÓN TOTAL')\n",
    "print ('ENERO 2019')\n",
    "enero2019.groupBy('user_type').sum('travel_time').show()\n",
    "print ('ENERO 2020')\n",
    "enero2020.groupBy('user_type').sum('travel_time').show()\n",
    "print ('ENERO 2021')\n",
    "enero2021.groupBy('user_type').sum('travel_time').show()"
   ]
  },
  {
   "cell_type": "markdown",
   "id": "24379ea3",
   "metadata": {},
   "source": [
    "#### TIEMPO DE UTILIZACIÓN MAYOR POR GRUPO\n",
    "\n",
    "Como podemos observar, el usuario con pase anual es el que más lo utiliza, seguido siempre del trabajador de empresa y por último, turista. Menos en 2021, que aparece el dato de usuario ocasional que ocupa el tercer puesto y el usuario turista queda último\n",
    "\n",
    "Una vez visto los datos, también podemos comprobar que el tiempo de utilización de enero 2021 fue mucho menor, como podíamos suponer\n"
   ]
  },
  {
   "cell_type": "markdown",
   "id": "f051a701",
   "metadata": {},
   "source": [
    "A continuación, veremos las veces que se utiliza el servicio según el rango de edad"
   ]
  },
  {
   "cell_type": "code",
   "execution_count": 17,
   "id": "5884e81e",
   "metadata": {},
   "outputs": [
    {
     "name": "stdout",
     "output_type": "stream",
     "text": [
      "RANGO DE EDAD UTILIZADO\n",
      "ENERO 2019\n"
     ]
    },
    {
     "name": "stderr",
     "output_type": "stream",
     "text": [
      "                                                                                \r"
     ]
    },
    {
     "name": "stdout",
     "output_type": "stream",
     "text": [
      "+--------+-----+\n",
      "|ageRange|count|\n",
      "+--------+-----+\n",
      "|       0|94940|\n",
      "|    null|47215|\n",
      "|       6|  916|\n",
      "|       5|49893|\n",
      "|       1| 2662|\n",
      "|       3|13067|\n",
      "|       2| 1600|\n",
      "|       4|68930|\n",
      "+--------+-----+\n",
      "\n",
      "ENERO 2020\n",
      "+--------+------+\n",
      "|ageRange| count|\n",
      "+--------+------+\n",
      "|       0|118379|\n",
      "|       6|  1441|\n",
      "|       5| 61718|\n",
      "|       1|  2993|\n",
      "|       3| 11869|\n",
      "|       2|  1148|\n",
      "|       4| 75327|\n",
      "+--------+------+\n",
      "\n",
      "ENERO 2021\n",
      "+--------+-----+\n",
      "|ageRange|count|\n",
      "+--------+-----+\n",
      "|       0|67842|\n",
      "|       6|  625|\n",
      "|       5|23925|\n",
      "|       1| 1373|\n",
      "|       3| 4910|\n",
      "|       2|  564|\n",
      "|       4|26403|\n",
      "+--------+-----+\n",
      "\n"
     ]
    }
   ],
   "source": [
    "print('RANGO DE EDAD UTILIZADO')\n",
    "print ('ENERO 2019')\n",
    "enero2019.groupBy('ageRange').count().show()\n",
    "print ('ENERO 2020')\n",
    "enero2020.groupBy('ageRange').count().show()\n",
    "print ('ENERO 2021')\n",
    "enero2021.groupBy('ageRange').count().show()\n"
   ]
  },
  {
   "cell_type": "markdown",
   "id": "7dc589d9",
   "metadata": {},
   "source": [
    "#### RANGO DE EDAD MÁS UTILIZADO\n",
    "\n",
    "El grupo de rango de edad más utilizado que se pudo determinar suele ser siempre el 4 y 5, usuarios entre 27 y 65 años.\n",
    "Luego, le sigue el 3 (19-26).\n",
    "Quedando como menos utilizados el grupo 1,2 y 6\n",
    "\n",
    "- 0: No se ha podido determinar el rango de edad del usuario\n",
    "- 1: El usuario tiene entre 0 y 16 años\n",
    "- 2: El usuario tiene entre 17 y 18 años\n",
    "- 3: El usuario tiene entre 19 y 26 años\n",
    "- 4: El usuario tiene entre 27 y 40 años\n",
    "- 5: El usuario tiene entre 41 y 65 años\n",
    "- 6: El usuario tiene 66 años o más"
   ]
  },
  {
   "cell_type": "markdown",
   "id": "25d6b549",
   "metadata": {},
   "source": [
    "#### ARCHIVOS CSV (2022, 2023)\n",
    "\n",
    "Veamos la fecha cuando más se utilizó el servicio"
   ]
  },
  {
   "cell_type": "code",
   "execution_count": 18,
   "id": "790eeccd",
   "metadata": {},
   "outputs": [
    {
     "name": "stdout",
     "output_type": "stream",
     "text": [
      "FECHA MÁS UTILIZADAS DE LOS ÚLTIMOS 2 AÑOS\n",
      "ENERO 2022\n"
     ]
    },
    {
     "name": "stderr",
     "output_type": "stream",
     "text": [
      "                                                                                \r"
     ]
    },
    {
     "name": "stdout",
     "output_type": "stream",
     "text": [
      "+----------+------+\n",
      "|     fecha| count|\n",
      "+----------+------+\n",
      "|      null|244760|\n",
      "|2022-01-18| 10228|\n",
      "|2022-01-13| 10237|\n",
      "|2022-01-20| 10025|\n",
      "|2022-01-26| 10154|\n",
      "|2022-01-28| 10088|\n",
      "|2022-01-27| 10511|\n",
      "+----------+------+\n",
      "\n",
      "ENERO 2023\n"
     ]
    },
    {
     "name": "stderr",
     "output_type": "stream",
     "text": [
      "[Stage 113:==========================================>              (3 + 1) / 4]\r"
     ]
    },
    {
     "name": "stdout",
     "output_type": "stream",
     "text": [
      "+----------+------+\n",
      "|     fecha| count|\n",
      "+----------+------+\n",
      "|      null|295923|\n",
      "|2023-01-10| 12613|\n",
      "|2023-01-12| 13362|\n",
      "|2023-01-13| 12829|\n",
      "|2023-01-11| 12304|\n",
      "+----------+------+\n",
      "\n"
     ]
    },
    {
     "name": "stderr",
     "output_type": "stream",
     "text": [
      "\r",
      "                                                                                \r"
     ]
    }
   ],
   "source": [
    "print('FECHA MÁS UTILIZADAS DE LOS ÚLTIMOS 2 AÑOS')\n",
    "\n",
    "fecha2022 = enero2022.groupBy('fecha').count()\n",
    "fecha2023 = enero2023.groupBy('fecha').count()\n",
    "\n",
    "print ('ENERO 2022')\n",
    "fecha2022.filter(fecha2022['count']>10000).show()\n",
    "print ('ENERO 2023')\n",
    "fecha2023.filter(fecha2023['count']>12000).show()"
   ]
  },
  {
   "cell_type": "markdown",
   "id": "e8b200f2",
   "metadata": {},
   "source": [
    "#### FECHA CUANDO MÁS SE UTILIZA\n",
    "\n",
    "Como podemos ver:\n",
    "\n",
    "Los días cuando bicimad se utilizó más de enero de 2022 son: 27, 13, 18\n",
    "\n",
    "Los días cuando bicimad se utilizó más de enero de 2023 son: 12, 13, 10\n",
    "\n",
    "Podemos intuir que es debido al fin de las vacaciones de Navidad y la vuelta al trabajo."
   ]
  },
  {
   "cell_type": "markdown",
   "id": "acfc8a29",
   "metadata": {},
   "source": [
    "# Pandemia\n",
    "\n",
    "¿Cómo afectó la pandemia al uso de bicimad?¿Se utilizó más una vez terminado el confinamiento en comparación a los meses previos?\n",
    "\n",
    "Veamos el número de desplazamientos antes, durante y post confinamiento 2020"
   ]
  },
  {
   "cell_type": "code",
   "execution_count": 19,
   "id": "e45ae3d4",
   "metadata": {},
   "outputs": [
    {
     "name": "stderr",
     "output_type": "stream",
     "text": [
      "                                                                                \r"
     ]
    },
    {
     "name": "stdout",
     "output_type": "stream",
     "text": [
      "Número de desplazamientos Febrero 2020: 341972\n",
      "Número de desplazamientos Marzo 2020: 148262\n",
      "Número de desplazamientos Abril 2020: 10447\n",
      "Número de desplazamientos Mayo 2020: 259579\n",
      "Número de desplazamientos Junio 2020: 210555\n"
     ]
    }
   ],
   "source": [
    "febrero2020 = spark.read.json('202002.json')\n",
    "marzo2020 = spark.read.json('202003.json')\n",
    "abril2020 = spark.read.json('202004.json')\n",
    "mayo2020 = spark.read.json('202005.json')\n",
    "junio2020 = spark.read.json('202006.json')\n",
    "\n",
    "print('Número de desplazamientos Febrero 2020: ' + str(febrero2020.count()))\n",
    "print('Número de desplazamientos Marzo 2020: ' + str(marzo2020.count()))\n",
    "print('Número de desplazamientos Abril 2020: ' + str(abril2020.count()))\n",
    "print('Número de desplazamientos Mayo 2020: ' + str(mayo2020.count()))\n",
    "print('Número de desplazamientos Junio 2020: ' + str(junio2020.count()))"
   ]
  },
  {
   "cell_type": "markdown",
   "id": "bb2277f6",
   "metadata": {},
   "source": [
    "Abril 2020 se podría decir que es uno de los meses en los que menos se ha utilizado el servicio desde su comienzo"
   ]
  },
  {
   "cell_type": "markdown",
   "id": "71d08079",
   "metadata": {},
   "source": [
    "# CONCLUSIÓN\n",
    "\n",
    "##### Con los datos que se han recopilado se pueden obtener varias conclusiones.\n",
    "##### En cuanto a la evolución que se ha producido en el número de desplazamientos a lo largo de los años se puede afirmar que el uso de este servicio se ha mantenido bastante constante. Por lo general, la cifra de desplazamientos en el mes de enero oscila entre los 250000 y los 300000. La única cifra que se aleja considerablemente del resto de datos es la de enero de 2021, que estaría altamente relacionada con el temporal de Filomena que azotó la ciudad.\n",
    "##### Las estaciones más utilizadas se encuentran cerca de Madrid Río, por la parte de Chopera, Acacias y Usera. Podemos asociarlo a la habilitación de carriles bici que se encuentran ahí, además de ser una zona agradable para montar en bicicleta. La menos, sin embargo, se encuentra en San Bernardo, pleno corazón de la ciudad, donde no hay carriles bici y es peligroso por el tráfico. También se encuentra mal posicionada justo al lado de una boca de metro.\n",
    "##### Respecto a los usuarios más frecuentes del servicio cabe destacar que para la mayor parte de los datos no se ha podido determinar ni su rango de edad ni el grupo al que pertenecen. Sin embargo, para los resultados que sí se han podido recoger se puede concluir que las personas que más utilizan el servicio, tanto en trayecto como en tiempo, son los usuarios de tipo 1 y 3 asociados a pase anual y empleados, mientras que el grupo de rango de edad que más lo utiliza es aquel comprendido entre los 27 y los 65. Son los más jóvenes y los mayores quienes menos utilizan esta forma de transporte. \n",
    "##### Con relación a los días del mes de enero cuando más se utiliza el servicio en los dos últimos años se puede relacionar con el fin de las vacaciones de Navidad y la vuelta al trabajo. También podría deberse al afán por comenzar el año de manera saludable\n",
    "##### Finalmente, en las cifras recogidas en los primeros meses del año 2020 se puede percibir el cambio radical que se produce con el inicio de la pandemia. Se ve como de febrero a marzo se produce una disminución considerable en el número de desplazamientos con, casi, 200000 deplazamientos menos de un mes a otro. Esto coincide con la declaración del estado de alarma que se produce el 14 de marzo. Por otra parte, el dato más significativo es el que se recoge en el mes de abril con una cifra de desplazamientos insignificante debido al confinamiento de la población durante ese mes. Posteriormente se percibe el cambio en el modo de comportamiento de la población con un aumento de más de 250000 desplazamientos en el mes de mayo."
   ]
  }
 ],
 "metadata": {
  "kernelspec": {
   "display_name": "Python 3 (ipykernel)",
   "language": "python",
   "name": "python3"
  },
  "language_info": {
   "codemirror_mode": {
    "name": "ipython",
    "version": 3
   },
   "file_extension": ".py",
   "mimetype": "text/x-python",
   "name": "python",
   "nbconvert_exporter": "python",
   "pygments_lexer": "ipython3",
   "version": "3.10.9"
  }
 },
 "nbformat": 4,
 "nbformat_minor": 5
}
