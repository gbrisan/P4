{
 "cells": [
  {
   "cell_type": "code",
   "execution_count": 1,
   "id": "a75e3441",
   "metadata": {},
   "outputs": [],
   "source": [
    "import findspark\n",
    "findspark.init()"
   ]
  },
  {
   "cell_type": "code",
   "execution_count": 2,
   "id": "f2ba885a",
   "metadata": {},
   "outputs": [],
   "source": [
    "import pyspark\n",
    "from pyspark.sql import SparkSession"
   ]
  },
  {
   "cell_type": "code",
   "execution_count": 3,
   "id": "9a4f1095",
   "metadata": {},
   "outputs": [
    {
     "name": "stdout",
     "output_type": "stream",
     "text": [
      "23/05/26 12:36:28 WARN Utils: Your hostname, prpa resolves to a loopback address: 127.0.1.1; using 10.0.2.15 instead (on interface enp0s3)\n",
      "23/05/26 12:36:28 WARN Utils: Set SPARK_LOCAL_IP if you need to bind to another address\n"
     ]
    },
    {
     "name": "stderr",
     "output_type": "stream",
     "text": [
      "Setting default log level to \"WARN\".\n",
      "To adjust logging level use sc.setLogLevel(newLevel). For SparkR, use setLogLevel(newLevel).\n"
     ]
    },
    {
     "name": "stdout",
     "output_type": "stream",
     "text": [
      "23/05/26 12:36:40 WARN NativeCodeLoader: Unable to load native-hadoop library for your platform... using builtin-java classes where applicable\n"
     ]
    }
   ],
   "source": [
    "spark = SparkSession.builder.getOrCreate()"
   ]
  },
  {
   "cell_type": "code",
   "execution_count": 4,
   "id": "2b1a770a",
   "metadata": {},
   "outputs": [],
   "source": [
    "import json\n",
    "import csv"
   ]
  },
  {
   "cell_type": "code",
   "execution_count": 8,
   "id": "524ead2a",
   "metadata": {},
   "outputs": [
    {
     "name": "stderr",
     "output_type": "stream",
     "text": [
      "                                                                                \r"
     ]
    },
    {
     "name": "stdout",
     "output_type": "stream",
     "text": [
      "ENERO 2019\n"
     ]
    },
    {
     "name": "stderr",
     "output_type": "stream",
     "text": [
      "                                                                                \r"
     ]
    },
    {
     "data": {
      "text/plain": [
       "279223"
      ]
     },
     "execution_count": 8,
     "metadata": {},
     "output_type": "execute_result"
    }
   ],
   "source": [
    "enero2019 = spark.read.json('201901.json')\n",
    "print ('ENERO 2019')\n",
    "\n",
    "enero2019.count()"
   ]
  },
  {
   "cell_type": "code",
   "execution_count": 52,
   "id": "2c36ad08",
   "metadata": {},
   "outputs": [
    {
     "name": "stderr",
     "output_type": "stream",
     "text": [
      "\r",
      "[Stage 473:==============>                                          (1 + 3) / 4]\r",
      "\r",
      "                                                                                \r"
     ]
    },
    {
     "name": "stdout",
     "output_type": "stream",
     "text": [
      "ENERO 2020\n"
     ]
    },
    {
     "data": {
      "text/plain": [
       "272875"
      ]
     },
     "execution_count": 52,
     "metadata": {},
     "output_type": "execute_result"
    }
   ],
   "source": [
    "enero2020 = spark.read.json('202001.json')\n",
    "print ('ENERO 2020')\n",
    "\n",
    "enero2020.count()\n"
   ]
  },
  {
   "cell_type": "code",
   "execution_count": 15,
   "id": "8a77126e",
   "metadata": {},
   "outputs": [
    {
     "name": "stdout",
     "output_type": "stream",
     "text": [
      "ENERO 2021\n"
     ]
    },
    {
     "data": {
      "text/plain": [
       "125642"
      ]
     },
     "execution_count": 15,
     "metadata": {},
     "output_type": "execute_result"
    }
   ],
   "source": [
    "enero2021 = spark.read.json('202101.json')\n",
    "print ('ENERO 2021')\n",
    "\n",
    "enero2021.count()"
   ]
  },
  {
   "cell_type": "code",
   "execution_count": 6,
   "id": "c03a64f6",
   "metadata": {},
   "outputs": [
    {
     "name": "stdout",
     "output_type": "stream",
     "text": [
      "ENERO 2022\n"
     ]
    },
    {
     "name": "stderr",
     "output_type": "stream",
     "text": [
      "                                                                                \r"
     ]
    },
    {
     "data": {
      "text/plain": [
       "244760"
      ]
     },
     "execution_count": 6,
     "metadata": {},
     "output_type": "execute_result"
    }
   ],
   "source": [
    "enero2022 = spark.read.csv('202201.csv', sep=';', header = True)\n",
    "print ('ENERO 2022')\n",
    "\n",
    "enero2022.count()//2\n"
   ]
  },
  {
   "cell_type": "code",
   "execution_count": 10,
   "id": "54a83956",
   "metadata": {},
   "outputs": [
    {
     "name": "stdout",
     "output_type": "stream",
     "text": [
      "ENERO 2023\n"
     ]
    },
    {
     "data": {
      "text/plain": [
       "295923"
      ]
     },
     "execution_count": 10,
     "metadata": {},
     "output_type": "execute_result"
    }
   ],
   "source": [
    "enero2023 = spark.read.csv('202301.csv', sep=';', header = True)\n",
    "print ('ENERO 2023')\n",
    "\n",
    "enero2023.count()//2"
   ]
  },
  {
   "cell_type": "code",
   "execution_count": 12,
   "id": "a9f44165",
   "metadata": {},
   "outputs": [
    {
     "name": "stderr",
     "output_type": "stream",
     "text": [
      "                                                                                \r"
     ]
    },
    {
     "name": "stdout",
     "output_type": "stream",
     "text": [
      "Número de desplazamientos Enero 2019: 279223\n",
      "Número de desplazamientos Enero 2020: 272875\n",
      "Número de desplazamientos Enero 2021: 125642\n",
      "Número de desplazamientos Enero 2022: 244760\n",
      "Número de desplazamientos Enero 2023: 295923\n"
     ]
    }
   ],
   "source": [
    "print('Número de desplazamientos Enero 2019: ' + str(enero2019.count()))\n",
    "print('Número de desplazamientos Enero 2020: ' + str(enero2020.count()))\n",
    "print('Número de desplazamientos Enero 2021: ' + str(enero2021.count()))\n",
    "print('Número de desplazamientos Enero 2022: ' + str(enero2022.count()//2))\n",
    "print('Número de desplazamientos Enero 2023: ' + str(enero2023.count()//2))"
   ]
  },
  {
   "cell_type": "code",
   "execution_count": 20,
   "id": "e671f16e",
   "metadata": {},
   "outputs": [],
   "source": [
    "unlock2019 = enero2019.groupBy('idunplug_station').count()\n",
    "unlock2020 = enero2020.groupBy('idunplug_station').count()\n",
    "unlock2021 = enero2021.groupBy('idunplug_station').count()\n",
    "unlock2022 = enero2022.groupBy('station_unlock').count()\n",
    "unlock2023 = enero2023.groupBy('station_unlock').count()\n"
   ]
  },
  {
   "cell_type": "code",
   "execution_count": 29,
   "id": "3a726980",
   "metadata": {},
   "outputs": [
    {
     "name": "stdout",
     "output_type": "stream",
     "text": [
      "ENERO 2019\n"
     ]
    },
    {
     "name": "stderr",
     "output_type": "stream",
     "text": [
      "                                                                                \r"
     ]
    },
    {
     "name": "stdout",
     "output_type": "stream",
     "text": [
      "+----------------+-----+\n",
      "|idunplug_station|count|\n",
      "+----------------+-----+\n",
      "|            null|47215|\n",
      "|             175| 3480|\n",
      "|             163| 3708|\n",
      "|             129| 3513|\n",
      "+----------------+-----+\n",
      "\n",
      "ENERO 2020\n"
     ]
    },
    {
     "name": "stderr",
     "output_type": "stream",
     "text": [
      "                                                                                \r"
     ]
    },
    {
     "name": "stdout",
     "output_type": "stream",
     "text": [
      "+----------------+-----+\n",
      "|idunplug_station|count|\n",
      "+----------------+-----+\n",
      "|              57| 3075|\n",
      "|              43| 3674|\n",
      "|              83| 3057|\n",
      "|             175| 3740|\n",
      "+----------------+-----+\n",
      "\n",
      "ENERO 2021\n",
      "+----------------+-----+\n",
      "|idunplug_station|count|\n",
      "+----------------+-----+\n",
      "|              57| 1637|\n",
      "|              43| 1586|\n",
      "|             208| 1158|\n",
      "|             175| 1182|\n",
      "+----------------+-----+\n",
      "\n",
      "ENERO 2022\n"
     ]
    },
    {
     "name": "stderr",
     "output_type": "stream",
     "text": [
      "                                                                                \r"
     ]
    },
    {
     "name": "stdout",
     "output_type": "stream",
     "text": [
      "+--------------+------+\n",
      "|station_unlock| count|\n",
      "+--------------+------+\n",
      "|          null|246630|\n",
      "|            43|  2846|\n",
      "|           175|  2421|\n",
      "|            57|  2377|\n",
      "+--------------+------+\n",
      "\n",
      "ENERO 2023\n"
     ]
    },
    {
     "name": "stderr",
     "output_type": "stream",
     "text": [
      "\r",
      "[Stage 198:>                                                        (0 + 4) / 4]\r",
      "\r",
      "[Stage 198:==============>                                          (1 + 3) / 4]\r"
     ]
    },
    {
     "name": "stdout",
     "output_type": "stream",
     "text": [
      "+--------------+------+\n",
      "|station_unlock| count|\n",
      "+--------------+------+\n",
      "|          null|296714|\n",
      "|            43|  3657|\n",
      "|           220|  2671|\n",
      "|           175|  2832|\n",
      "|            57|  3752|\n",
      "+--------------+------+\n",
      "\n"
     ]
    },
    {
     "name": "stderr",
     "output_type": "stream",
     "text": [
      "\r",
      "[Stage 198:==========================================>              (3 + 1) / 4]\r",
      "\r",
      "                                                                                \r"
     ]
    }
   ],
   "source": [
    "print ('ENERO 2019')\n",
    "unlock2019.filter(unlock2019['count']>3400).show()\n",
    "print ('ENERO 2020')\n",
    "unlock2020.filter(unlock2020['count']>3000).show()\n",
    "print ('ENERO 2021')\n",
    "unlock2021.filter(unlock2021['count']>1100).show()\n",
    "print ('ENERO 2022')\n",
    "unlock2022.filter(unlock2022['count']>2300).show()\n",
    "print ('ENERO 2023')\n",
    "unlock2023.filter(unlock2023['count']>2500).show()"
   ]
  },
  {
   "cell_type": "markdown",
   "id": "923d7da8",
   "metadata": {},
   "source": [
    "ESTACIONES DONDE MÁS SE COGEN BICICLETAS\n",
    "\n",
    "ENERO 2019\n",
    "- 163: Paseo de la Esperanza, 83\n",
    "- 129: Calle de Jose Abascal, 33\n",
    "- 175: Calle Jaime el Conquistador, 30\n",
    "\n",
    "ENERO 2020\n",
    "- 175: Calle Jaime el Conquistador, 30\n",
    "- 43: Calle de Lavapiés, 36\n",
    "- 57/83: Calle de Santa Cruz de Marcenado, 24 / Pio Baroja, 8B\n",
    "\n",
    "ENERO 2021\n",
    "- 57: Calle de Santa Cruz de Marcenado, 24\n",
    "- 43: Calle de Lavapiés, 36\n",
    "- 175/208: Calle Jaime el Conquistador, 30 / Paseo de la Castellana, S/N\n",
    "\n",
    "ENERO 2022\n",
    "- 43: Calle de Lavapiés, 36\n",
    "- 175: Calle Jaime el Conquistador, 30\n",
    "- 57: Calle de Santa Cruz de Marcenado, 24\n",
    "\n",
    "ENERO 2023\n",
    "- 57: Calle de Santa Cruz de Marcenado, 24\n",
    "- 43: Calle de Lavapiés, 36\n",
    "- 175: Calle Jaime el Conquistador, 30\n",
    "\n",
    "En general, donde más se cogen es en la estación 175, 43, 57"
   ]
  },
  {
   "cell_type": "code",
   "execution_count": 30,
   "id": "4f2a7e0a",
   "metadata": {},
   "outputs": [],
   "source": [
    "lock2019 = enero2019.groupBy('idplug_station').count()\n",
    "lock2020 = enero2020.groupBy('idplug_station').count()\n",
    "lock2021 = enero2021.groupBy('idplug_station').count()\n",
    "lock2022 = enero2022.groupBy('station_lock').count()\n",
    "lock2023 = enero2023.groupBy('station_lock').count()"
   ]
  },
  {
   "cell_type": "code",
   "execution_count": 32,
   "id": "53549f1c",
   "metadata": {},
   "outputs": [
    {
     "name": "stdout",
     "output_type": "stream",
     "text": [
      "ENERO 2019\n"
     ]
    },
    {
     "name": "stderr",
     "output_type": "stream",
     "text": [
      "                                                                                \r"
     ]
    },
    {
     "name": "stdout",
     "output_type": "stream",
     "text": [
      "+--------------+-----+\n",
      "|idplug_station|count|\n",
      "+--------------+-----+\n",
      "|            43| 3336|\n",
      "|          null|47215|\n",
      "|           175| 3608|\n",
      "|           163| 3774|\n",
      "|           129| 3396|\n",
      "+--------------+-----+\n",
      "\n",
      "ENERO 2020\n",
      "+--------------+-----+\n",
      "|idplug_station|count|\n",
      "+--------------+-----+\n",
      "|            57| 3057|\n",
      "|            43| 3748|\n",
      "|            83| 3068|\n",
      "|           175| 3741|\n",
      "+--------------+-----+\n",
      "\n",
      "ENERO 2021\n",
      "+--------------+-----+\n",
      "|idplug_station|count|\n",
      "+--------------+-----+\n",
      "|           149| 1101|\n",
      "|            57| 1639|\n",
      "|            43| 1594|\n",
      "|           208| 1179|\n",
      "|           175| 1170|\n",
      "+--------------+-----+\n",
      "\n",
      "ENERO 2022\n"
     ]
    },
    {
     "name": "stderr",
     "output_type": "stream",
     "text": [
      "                                                                                \r"
     ]
    },
    {
     "name": "stdout",
     "output_type": "stream",
     "text": [
      "+------------+------+\n",
      "|station_lock| count|\n",
      "+------------+------+\n",
      "|        null|247067|\n",
      "|          43|  2901|\n",
      "|         175|  2508|\n",
      "|          57|  2418|\n",
      "+------------+------+\n",
      "\n",
      "ENERO 2023\n"
     ]
    },
    {
     "name": "stderr",
     "output_type": "stream",
     "text": [
      "\r",
      "[Stage 228:>                                                        (0 + 4) / 4]\r"
     ]
    },
    {
     "name": "stdout",
     "output_type": "stream",
     "text": [
      "+------------+------+\n",
      "|station_lock| count|\n",
      "+------------+------+\n",
      "|        null|296887|\n",
      "|          43|  3698|\n",
      "|         220|  2848|\n",
      "|         175|  2906|\n",
      "|          57|  3759|\n",
      "+------------+------+\n",
      "\n"
     ]
    },
    {
     "name": "stderr",
     "output_type": "stream",
     "text": [
      "\r",
      "[Stage 228:============================>                            (2 + 2) / 4]\r",
      "\r",
      "                                                                                \r"
     ]
    }
   ],
   "source": [
    "print ('ENERO 2019')\n",
    "lock2019.filter(lock2019['count']>3300).show()\n",
    "print ('ENERO 2020')\n",
    "lock2020.filter(lock2020['count']>3000).show()\n",
    "print ('ENERO 2021')\n",
    "lock2021.filter(lock2021['count']>1100).show()\n",
    "print ('ENERO 2022')\n",
    "lock2022.filter(lock2022['count']>2300).show()\n",
    "print ('ENERO 2023')\n",
    "lock2023.filter(lock2023['count']>2500).show()"
   ]
  },
  {
   "cell_type": "markdown",
   "id": "e013e4f8",
   "metadata": {},
   "source": [
    "ESTACIONES DONDE MÁS SE DEVUELVEN BICICLETAS\n",
    "\n",
    "ENERO 2019\n",
    "- 163: Paseo de la Esperanza, 83\n",
    "- 175: Calle Jaime el Conquistador, 30\n",
    "- 129/43: Calle Jose Abascal, 33 / Calle de Lavapiés, 36\n",
    "\n",
    "ENERO 2020\n",
    "- 43: Calle de Lavapiés, 36\n",
    "- 175: Calle Jaime el Conquistador, 30\n",
    "- 83/57: Pio Baroja, 8B / Calle de Santa Cruz de Marcenado, 24\n",
    "\n",
    "ENERO 2021\n",
    "- 57: Calle de Santa Cruz de Marcenado, 24\n",
    "- 43: Calle de Lavapiés, 36\n",
    "- 208/175: Paseo de la Castellana, S/N / Calle Jaime el Conquistador, 30\n",
    "\n",
    "ENERO 2022\n",
    "- 43: Calle de Lavapiés, 36\n",
    "- 175: Calle Jaime el Conquistador, 30\n",
    "- 57: Calle de Santa Cruz de Marcenado, 24\n",
    "\n",
    "ENERO 2023\n",
    "- 57: Calle de Santa Cruz de Marcenado, 24\n",
    "- 43: Calle de Lavapiés, 36\n",
    "- 175/220: Calle Jaime el Conquistador, 30 / Arroyo de las Pilillas , 4\n",
    "\n",
    "En general, donde más se devuelven es en la estación 175, 43, 57"
   ]
  },
  {
   "cell_type": "markdown",
   "id": "a9645474",
   "metadata": {},
   "source": [
    "Se podría decir que las estaciones que más triunfan son 175, 43, 57"
   ]
  },
  {
   "cell_type": "code",
   "execution_count": 43,
   "id": "6788ea27",
   "metadata": {},
   "outputs": [
    {
     "name": "stdout",
     "output_type": "stream",
     "text": [
      "ENERO 2019\n"
     ]
    },
    {
     "name": "stderr",
     "output_type": "stream",
     "text": [
      "                                                                                \r"
     ]
    },
    {
     "name": "stdout",
     "output_type": "stream",
     "text": [
      "+----------------+-----+\n",
      "|idunplug_station|count|\n",
      "+----------------+-----+\n",
      "|              29|  327|\n",
      "|              28|  268|\n",
      "|            2008|    1|\n",
      "+----------------+-----+\n",
      "\n",
      "ENERO 2020\n",
      "+----------------+-----+\n",
      "|idunplug_station|count|\n",
      "+----------------+-----+\n",
      "|              29|  339|\n",
      "|              28|  167|\n",
      "+----------------+-----+\n",
      "\n",
      "ENERO 2021\n",
      "+----------------+-----+\n",
      "|idunplug_station|count|\n",
      "+----------------+-----+\n",
      "|             257|   49|\n",
      "|             265|   52|\n",
      "+----------------+-----+\n",
      "\n",
      "ENERO 2022\n"
     ]
    },
    {
     "name": "stderr",
     "output_type": "stream",
     "text": [
      "                                                                                \r"
     ]
    },
    {
     "name": "stdout",
     "output_type": "stream",
     "text": [
      "+--------------+-----+\n",
      "|station_unlock|count|\n",
      "+--------------+-----+\n",
      "|           115|   11|\n",
      "|           123|    9|\n",
      "|           124|   12|\n",
      "+--------------+-----+\n",
      "\n",
      "ENERO 2023\n"
     ]
    },
    {
     "name": "stderr",
     "output_type": "stream",
     "text": [
      "\r",
      "[Stage 393:>                                                        (0 + 4) / 4]\r"
     ]
    },
    {
     "name": "stdout",
     "output_type": "stream",
     "text": [
      "+--------------+-----+\n",
      "|station_unlock|count|\n",
      "+--------------+-----+\n",
      "|           117|  164|\n",
      "|           889|    3|\n",
      "|            89|    9|\n",
      "+--------------+-----+\n",
      "\n"
     ]
    },
    {
     "name": "stderr",
     "output_type": "stream",
     "text": [
      "\r",
      "                                                                                \r"
     ]
    }
   ],
   "source": [
    "print ('ENERO 2019')\n",
    "unlock2019.filter(unlock2019['count']<350).show()\n",
    "print ('ENERO 2020')\n",
    "unlock2020.filter(unlock2020['count']<400).show()\n",
    "print ('ENERO 2021')\n",
    "unlock2021.filter(unlock2021['count']<60).show()\n",
    "print ('ENERO 2022')\n",
    "unlock2022.filter(unlock2022['count']<20).show()\n",
    "print ('ENERO 2023')\n",
    "unlock2023.filter(unlock2023['count']<200).show()"
   ]
  },
  {
   "cell_type": "markdown",
   "id": "9c5e2ac0",
   "metadata": {},
   "source": [
    "ESTACIONES DONDE MENOS SE COGEN BICICLETAS\n",
    "\n",
    "ENERO 2019\n",
    "- 2008: NO EXISTE\n",
    "- 28: Calle de Alcalá, 26\n",
    "- 29: Marqués de Cubas, 25\n",
    "\n",
    "ENERO 2020\n",
    "- 28: Calle de Alcalá, 26\n",
    "- 29: Marqués de Cubas, 25\n",
    "\n",
    "ENERO 2021\n",
    "- 49: Ronda de Atocha, 36\n",
    "- 52: Plaza de Santa Ana, 9\n",
    "\n",
    "ENERO 2022\n",
    "- 123: Guzmán el Bueno, 2\n",
    "- 115/124: Plaza del Marqués de Cerralbo, S/N / Manuel Silvela, 18\n",
    "\n",
    "ENERO 2023\n",
    "- 889: NO EXISTE\n",
    "- 89: Ayala, 102\n",
    "- 117: Altamirano, 24\n",
    "DIFERENCIAS MUY GRANDES\n",
    "\n",
    "En general, no hay un consenso ahora mismo de dónde se cogen menos"
   ]
  },
  {
   "cell_type": "code",
   "execution_count": 46,
   "id": "d674ee11",
   "metadata": {},
   "outputs": [
    {
     "name": "stdout",
     "output_type": "stream",
     "text": [
      "ENERO 2019\n"
     ]
    },
    {
     "name": "stderr",
     "output_type": "stream",
     "text": [
      "                                                                                \r"
     ]
    },
    {
     "name": "stdout",
     "output_type": "stream",
     "text": [
      "+--------------+-----+\n",
      "|idplug_station|count|\n",
      "+--------------+-----+\n",
      "|            29|  344|\n",
      "|            28|  271|\n",
      "|          2008|    1|\n",
      "+--------------+-----+\n",
      "\n",
      "ENERO 2020\n",
      "+--------------+-----+\n",
      "|idplug_station|count|\n",
      "+--------------+-----+\n",
      "|            29|  332|\n",
      "|            28|  170|\n",
      "+--------------+-----+\n",
      "\n",
      "ENERO 2021\n",
      "+--------------+-----+\n",
      "|idplug_station|count|\n",
      "+--------------+-----+\n",
      "|           266|   52|\n",
      "|           257|   35|\n",
      "|           265|   52|\n",
      "|           267|   59|\n",
      "|           261|   54|\n",
      "+--------------+-----+\n",
      "\n",
      "ENERO 2022\n"
     ]
    },
    {
     "name": "stderr",
     "output_type": "stream",
     "text": [
      "\r",
      "[Stage 435:============================>                            (2 + 2) / 4]\r",
      "\r",
      "                                                                                \r"
     ]
    },
    {
     "name": "stdout",
     "output_type": "stream",
     "text": [
      "+------------+-----+\n",
      "|station_lock|count|\n",
      "+------------+-----+\n",
      "|          28|  185|\n",
      "|         257|  183|\n",
      "|         266|  117|\n",
      "|         225|  168|\n",
      "+------------+-----+\n",
      "\n",
      "ENERO 2023\n"
     ]
    },
    {
     "name": "stderr",
     "output_type": "stream",
     "text": [
      "\r",
      "[Stage 438:>                                                        (0 + 4) / 4]\r",
      "\r",
      "[Stage 438:==============>                                          (1 + 3) / 4]\r"
     ]
    },
    {
     "name": "stdout",
     "output_type": "stream",
     "text": [
      "+------------+-----+\n",
      "|station_lock|count|\n",
      "+------------+-----+\n",
      "|          28|  180|\n",
      "|         117|  160|\n",
      "|         889|    4|\n",
      "|          89|   12|\n",
      "+------------+-----+\n",
      "\n"
     ]
    },
    {
     "name": "stderr",
     "output_type": "stream",
     "text": [
      "\r",
      "                                                                                \r"
     ]
    }
   ],
   "source": [
    "print ('ENERO 2019')\n",
    "lock2019.filter(lock2019['count']<350).show()\n",
    "print ('ENERO 2020')\n",
    "lock2020.filter(lock2020['count']<400).show()\n",
    "print ('ENERO 2021')\n",
    "lock2021.filter(lock2021['count']<60).show()\n",
    "print ('ENERO 2022')\n",
    "lock2022.filter(lock2022['count']<200).show()\n",
    "print ('ENERO 2023')\n",
    "lock2023.filter(lock2023['count']<200).show()"
   ]
  },
  {
   "cell_type": "markdown",
   "id": "399a2752",
   "metadata": {},
   "source": [
    "ESTACIONES DONDE MENOS SE DEVUELVEN BICICLETAS\n",
    "\n",
    "ENERO 2019\n",
    "- 2008: NO EXISTE\n",
    "- 28: Calle de Alcalá, 26\n",
    "- 29: Marqués de Cubas, 25\n",
    "\n",
    "ENERO 2020\n",
    "- 28: Calle de Alcalá, 26\n",
    "- 29: Marqués de Cubas, 25\n",
    "\n",
    "ENERO 2021\n",
    "- 257: Avenida de Juan de Herrera, 1\n",
    "- 266/265: NO APARECEN EN LA WEB\n",
    "\n",
    "ENERO 2022                                                                           \n",
    "- 266: NO APARECE EN LA WEB\n",
    "- 225: Sierra Toledana, 33\n",
    "266 SIGUE ESTANDO ABAJO EN EL RANKING PERO HA AUMENTADO CONSIDERABLEMENTE\n",
    "\n",
    "\n",
    "ENERO 2023\n",
    "- 889: NO EXISTE\n",
    "- 89: Ayala, 102\n",
    "- 117/28: Altamirano, 24 / Alcalá , 26\n",
    "\n",
    "28 SIGUE SIN TRIUNFAR\n",
    "\n",
    "En general, donde menos se devuelven es en la estación 28"
   ]
  },
  {
   "cell_type": "markdown",
   "id": "93a3f45d",
   "metadata": {},
   "source": [
    "Se podría decir que la estación menos utilizada es la 28"
   ]
  },
  {
   "cell_type": "code",
   "execution_count": null,
   "id": "8275eb3d",
   "metadata": {},
   "outputs": [],
   "source": [
    "AGERANGE, TRAVELTIME, USERTYPE 3 PRIMEROS AÑOS\n",
    "FECHA MÁS UTILIZADAS DE LOS ÚLTIMOS 2"
   ]
  },
  {
   "cell_type": "markdown",
   "id": "cfa19353",
   "metadata": {},
   "source": [
    "VEAMOS QUÉ AÑO SE UTILIZÓ MÁS EN ENERO"
   ]
  },
  {
   "cell_type": "code",
   "execution_count": 54,
   "id": "38db70bf",
   "metadata": {},
   "outputs": [
    {
     "name": "stdout",
     "output_type": "stream",
     "text": [
      "ENERO 2019\n"
     ]
    },
    {
     "name": "stderr",
     "output_type": "stream",
     "text": [
      "                                                                                \r"
     ]
    },
    {
     "name": "stdout",
     "output_type": "stream",
     "text": [
      "+---------+----------------+\n",
      "|user_type|sum(travel_time)|\n",
      "+---------+----------------+\n",
      "|        0|         2592405|\n",
      "|     null|            null|\n",
      "|        1|       165544356|\n",
      "|        3|        69331926|\n",
      "|        2|         2563298|\n",
      "+---------+----------------+\n",
      "\n",
      "ENERO 2020\n",
      "+---------+----------------+\n",
      "|user_type|sum(travel_time)|\n",
      "+---------+----------------+\n",
      "|        1|       211759904|\n",
      "|        3|        92907755|\n",
      "|        2|         1505971|\n",
      "+---------+----------------+\n",
      "\n",
      "ENERO 2021\n",
      "+---------+----------------+\n",
      "|user_type|sum(travel_time)|\n",
      "+---------+----------------+\n",
      "|        6|         1351215|\n",
      "|        1|       126578813|\n",
      "|        3|        27008414|\n",
      "|        2|          699819|\n",
      "+---------+----------------+\n",
      "\n",
      "ENERO 2022\n"
     ]
    },
    {
     "ename": "AnalysisException",
     "evalue": "\"trip_minutes\" is not a numeric column. Aggregation function can only be applied on a numeric column.",
     "output_type": "error",
     "traceback": [
      "\u001b[0;31m---------------------------------------------------------------------------\u001b[0m",
      "\u001b[0;31mAnalysisException\u001b[0m                         Traceback (most recent call last)",
      "Cell \u001b[0;32mIn[54], line 8\u001b[0m\n\u001b[1;32m      6\u001b[0m enero2021\u001b[38;5;241m.\u001b[39mgroupBy(\u001b[38;5;124m'\u001b[39m\u001b[38;5;124muser_type\u001b[39m\u001b[38;5;124m'\u001b[39m)\u001b[38;5;241m.\u001b[39msum(\u001b[38;5;124m'\u001b[39m\u001b[38;5;124mtravel_time\u001b[39m\u001b[38;5;124m'\u001b[39m)\u001b[38;5;241m.\u001b[39mshow()\n\u001b[1;32m      7\u001b[0m \u001b[38;5;28mprint\u001b[39m (\u001b[38;5;124m'\u001b[39m\u001b[38;5;124mENERO 2022\u001b[39m\u001b[38;5;124m'\u001b[39m)\n\u001b[0;32m----> 8\u001b[0m \u001b[43menero2022\u001b[49m\u001b[38;5;241;43m.\u001b[39;49m\u001b[43mgroupBy\u001b[49m\u001b[43m(\u001b[49m\u001b[38;5;124;43m'\u001b[39;49m\u001b[38;5;124;43muser_type\u001b[39;49m\u001b[38;5;124;43m'\u001b[39;49m\u001b[43m)\u001b[49m\u001b[38;5;241;43m.\u001b[39;49m\u001b[43msum\u001b[49m\u001b[43m(\u001b[49m\u001b[38;5;124;43m'\u001b[39;49m\u001b[38;5;124;43mtrip_minutes\u001b[39;49m\u001b[38;5;124;43m'\u001b[39;49m\u001b[43m)\u001b[49m\u001b[38;5;241m.\u001b[39mshow()\n\u001b[1;32m      9\u001b[0m \u001b[38;5;28mprint\u001b[39m (\u001b[38;5;124m'\u001b[39m\u001b[38;5;124mENERO 2023\u001b[39m\u001b[38;5;124m'\u001b[39m)\n\u001b[1;32m     10\u001b[0m enero2023\u001b[38;5;241m.\u001b[39mgroupBy(\u001b[38;5;124m'\u001b[39m\u001b[38;5;124muser_type\u001b[39m\u001b[38;5;124m'\u001b[39m)\u001b[38;5;241m.\u001b[39msum(\u001b[38;5;124m'\u001b[39m\u001b[38;5;124mtrip_minutes\u001b[39m\u001b[38;5;124m'\u001b[39m)\u001b[38;5;241m.\u001b[39mshow()\n",
      "File \u001b[0;32m~/.pyenv/versions/3.10.9/lib/python3.10/site-packages/pyspark/sql/group.py:50\u001b[0m, in \u001b[0;36mdf_varargs_api.<locals>._api\u001b[0;34m(self, *cols)\u001b[0m\n\u001b[1;32m     48\u001b[0m \u001b[38;5;28;01mdef\u001b[39;00m \u001b[38;5;21m_api\u001b[39m(\u001b[38;5;28mself\u001b[39m: \u001b[38;5;124m\"\u001b[39m\u001b[38;5;124mGroupedData\u001b[39m\u001b[38;5;124m\"\u001b[39m, \u001b[38;5;241m*\u001b[39mcols: \u001b[38;5;28mstr\u001b[39m) \u001b[38;5;241m-\u001b[39m\u001b[38;5;241m>\u001b[39m DataFrame:\n\u001b[1;32m     49\u001b[0m     name \u001b[38;5;241m=\u001b[39m f\u001b[38;5;241m.\u001b[39m\u001b[38;5;18m__name__\u001b[39m\n\u001b[0;32m---> 50\u001b[0m     jdf \u001b[38;5;241m=\u001b[39m \u001b[38;5;28;43mgetattr\u001b[39;49m\u001b[43m(\u001b[49m\u001b[38;5;28;43mself\u001b[39;49m\u001b[38;5;241;43m.\u001b[39;49m\u001b[43m_jgd\u001b[49m\u001b[43m,\u001b[49m\u001b[43m \u001b[49m\u001b[43mname\u001b[49m\u001b[43m)\u001b[49m\u001b[43m(\u001b[49m\u001b[43m_to_seq\u001b[49m\u001b[43m(\u001b[49m\u001b[38;5;28;43mself\u001b[39;49m\u001b[38;5;241;43m.\u001b[39;49m\u001b[43msession\u001b[49m\u001b[38;5;241;43m.\u001b[39;49m\u001b[43m_sc\u001b[49m\u001b[43m,\u001b[49m\u001b[43m \u001b[49m\u001b[43mcols\u001b[49m\u001b[43m)\u001b[49m\u001b[43m)\u001b[49m\n\u001b[1;32m     51\u001b[0m     \u001b[38;5;28;01mreturn\u001b[39;00m DataFrame(jdf, \u001b[38;5;28mself\u001b[39m\u001b[38;5;241m.\u001b[39msession)\n",
      "File \u001b[0;32m~/.pyenv/versions/3.10.9/lib/python3.10/site-packages/py4j/java_gateway.py:1321\u001b[0m, in \u001b[0;36mJavaMember.__call__\u001b[0;34m(self, *args)\u001b[0m\n\u001b[1;32m   1315\u001b[0m command \u001b[38;5;241m=\u001b[39m proto\u001b[38;5;241m.\u001b[39mCALL_COMMAND_NAME \u001b[38;5;241m+\u001b[39m\\\n\u001b[1;32m   1316\u001b[0m     \u001b[38;5;28mself\u001b[39m\u001b[38;5;241m.\u001b[39mcommand_header \u001b[38;5;241m+\u001b[39m\\\n\u001b[1;32m   1317\u001b[0m     args_command \u001b[38;5;241m+\u001b[39m\\\n\u001b[1;32m   1318\u001b[0m     proto\u001b[38;5;241m.\u001b[39mEND_COMMAND_PART\n\u001b[1;32m   1320\u001b[0m answer \u001b[38;5;241m=\u001b[39m \u001b[38;5;28mself\u001b[39m\u001b[38;5;241m.\u001b[39mgateway_client\u001b[38;5;241m.\u001b[39msend_command(command)\n\u001b[0;32m-> 1321\u001b[0m return_value \u001b[38;5;241m=\u001b[39m \u001b[43mget_return_value\u001b[49m\u001b[43m(\u001b[49m\n\u001b[1;32m   1322\u001b[0m \u001b[43m    \u001b[49m\u001b[43manswer\u001b[49m\u001b[43m,\u001b[49m\u001b[43m \u001b[49m\u001b[38;5;28;43mself\u001b[39;49m\u001b[38;5;241;43m.\u001b[39;49m\u001b[43mgateway_client\u001b[49m\u001b[43m,\u001b[49m\u001b[43m \u001b[49m\u001b[38;5;28;43mself\u001b[39;49m\u001b[38;5;241;43m.\u001b[39;49m\u001b[43mtarget_id\u001b[49m\u001b[43m,\u001b[49m\u001b[43m \u001b[49m\u001b[38;5;28;43mself\u001b[39;49m\u001b[38;5;241;43m.\u001b[39;49m\u001b[43mname\u001b[49m\u001b[43m)\u001b[49m\n\u001b[1;32m   1324\u001b[0m \u001b[38;5;28;01mfor\u001b[39;00m temp_arg \u001b[38;5;129;01min\u001b[39;00m temp_args:\n\u001b[1;32m   1325\u001b[0m     temp_arg\u001b[38;5;241m.\u001b[39m_detach()\n",
      "File \u001b[0;32m~/.pyenv/versions/3.10.9/lib/python3.10/site-packages/pyspark/sql/utils.py:196\u001b[0m, in \u001b[0;36mcapture_sql_exception.<locals>.deco\u001b[0;34m(*a, **kw)\u001b[0m\n\u001b[1;32m    192\u001b[0m converted \u001b[38;5;241m=\u001b[39m convert_exception(e\u001b[38;5;241m.\u001b[39mjava_exception)\n\u001b[1;32m    193\u001b[0m \u001b[38;5;28;01mif\u001b[39;00m \u001b[38;5;129;01mnot\u001b[39;00m \u001b[38;5;28misinstance\u001b[39m(converted, UnknownException):\n\u001b[1;32m    194\u001b[0m     \u001b[38;5;66;03m# Hide where the exception came from that shows a non-Pythonic\u001b[39;00m\n\u001b[1;32m    195\u001b[0m     \u001b[38;5;66;03m# JVM exception message.\u001b[39;00m\n\u001b[0;32m--> 196\u001b[0m     \u001b[38;5;28;01mraise\u001b[39;00m converted \u001b[38;5;28;01mfrom\u001b[39;00m \u001b[38;5;28mNone\u001b[39m\n\u001b[1;32m    197\u001b[0m \u001b[38;5;28;01melse\u001b[39;00m:\n\u001b[1;32m    198\u001b[0m     \u001b[38;5;28;01mraise\u001b[39;00m\n",
      "\u001b[0;31mAnalysisException\u001b[0m: \"trip_minutes\" is not a numeric column. Aggregation function can only be applied on a numeric column."
     ]
    }
   ],
   "source": [
    "print ('ENERO 2019')\n",
    "enero2019.groupBy('user_type').sum('travel_time').show()\n",
    "print ('ENERO 2020')\n",
    "enero2020.groupBy('user_type').sum('travel_time').show()\n",
    "print ('ENERO 2021')\n",
    "enero2021.groupBy('user_type').sum('travel_time').show()\n",
    "print ('ENERO 2022')\n",
    "enero2022.groupBy('user_type').sum('trip_minutes').show()\n",
    "print ('ENERO 2023')\n",
    "enero2023.groupBy('user_type').sum('trip_minutes').show()"
   ]
  },
  {
   "cell_type": "code",
   "execution_count": null,
   "id": "a231b614",
   "metadata": {},
   "outputs": [],
   "source": []
  },
  {
   "cell_type": "code",
   "execution_count": null,
   "id": "5884e81e",
   "metadata": {},
   "outputs": [],
   "source": []
  },
  {
   "cell_type": "code",
   "execution_count": null,
   "id": "6871efd4",
   "metadata": {},
   "outputs": [],
   "source": []
  },
  {
   "cell_type": "code",
   "execution_count": null,
   "id": "790eeccd",
   "metadata": {},
   "outputs": [],
   "source": []
  },
  {
   "cell_type": "code",
   "execution_count": 7,
   "id": "e45ae3d4",
   "metadata": {},
   "outputs": [
    {
     "name": "stdout",
     "output_type": "stream",
     "text": [
      "ABRIL 2020\n"
     ]
    },
    {
     "data": {
      "text/plain": [
       "10447"
      ]
     },
     "execution_count": 7,
     "metadata": {},
     "output_type": "execute_result"
    }
   ],
   "source": [
    "abril2020 = spark.read.json('202004.json')\n",
    "print ('ABRIL 2020')\n",
    "\n",
    "abril2020.count()"
   ]
  },
  {
   "cell_type": "code",
   "execution_count": 22,
   "id": "7b27f3e8",
   "metadata": {},
   "outputs": [
    {
     "name": "stderr",
     "output_type": "stream",
     "text": [
      "                                                                                \r"
     ]
    },
    {
     "name": "stdout",
     "output_type": "stream",
     "text": [
      "MAYO 2020\n"
     ]
    },
    {
     "data": {
      "text/plain": [
       "259579"
      ]
     },
     "execution_count": 22,
     "metadata": {},
     "output_type": "execute_result"
    }
   ],
   "source": [
    "mayo2020 = spark.read.json('202005.json')\n",
    "print ('MAYO 2020')\n",
    "\n",
    "mayo2020.count()"
   ]
  },
  {
   "cell_type": "code",
   "execution_count": 23,
   "id": "9f903682",
   "metadata": {},
   "outputs": [
    {
     "name": "stderr",
     "output_type": "stream",
     "text": [
      "                                                                                \r"
     ]
    },
    {
     "name": "stdout",
     "output_type": "stream",
     "text": [
      "JUNIO 2020\n"
     ]
    },
    {
     "data": {
      "text/plain": [
       "210555"
      ]
     },
     "execution_count": 23,
     "metadata": {},
     "output_type": "execute_result"
    }
   ],
   "source": [
    "junio2020 = spark.read.json('202006.json')\n",
    "print ('JUNIO 2020')\n",
    "\n",
    "junio2020.count()"
   ]
  }
 ],
 "metadata": {
  "kernelspec": {
   "display_name": "Python 3 (ipykernel)",
   "language": "python",
   "name": "python3"
  },
  "language_info": {
   "codemirror_mode": {
    "name": "ipython",
    "version": 3
   },
   "file_extension": ".py",
   "mimetype": "text/x-python",
   "name": "python",
   "nbconvert_exporter": "python",
   "pygments_lexer": "ipython3",
   "version": "3.10.9"
  }
 },
 "nbformat": 4,
 "nbformat_minor": 5
}
